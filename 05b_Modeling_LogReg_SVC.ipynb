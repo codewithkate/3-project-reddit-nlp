{
  "cells": [
    {
      "cell_type": "markdown",
      "id": "1f58ab33-f6b3-45d0-a2d1-4a94404b50fa",
      "metadata": {
        "id": "1f58ab33-f6b3-45d0-a2d1-4a94404b50fa"
      },
      "source": [
        "# Modeling\n",
        "___"
      ]
    },
    {
      "cell_type": "markdown",
      "id": "92bcaf89-463f-4578-b5ad-d9e59fb857ea",
      "metadata": {
        "tags": [],
        "id": "92bcaf89-463f-4578-b5ad-d9e59fb857ea"
      },
      "source": [
        "## Load Libraries"
      ]
    },
    {
      "cell_type": "code",
      "execution_count": null,
      "id": "04fe3283-3089-4724-8427-db0ad0fba9cc",
      "metadata": {
        "id": "04fe3283-3089-4724-8427-db0ad0fba9cc"
      },
      "outputs": [],
      "source": [
        "# !pip install scikit-optimize"
      ]
    },
    {
      "cell_type": "code",
      "execution_count": null,
      "id": "0a95a8cf-b39c-480b-b287-9efb991c79c4",
      "metadata": {
        "id": "0a95a8cf-b39c-480b-b287-9efb991c79c4"
      },
      "outputs": [],
      "source": [
        "import pandas as pd\n",
        "import numpy as np\n",
        "import seaborn as sns\n",
        "import matplotlib.pyplot as plt\n",
        "import pickle\n",
        "\n",
        "# Import Models\n",
        "from sklearn.preprocessing import StandardScaler\n",
        "from sklearn.model_selection import RandomizedSearchCV\n",
        "from sklearn.pipeline import Pipeline\n",
        "from sklearn.naive_bayes import MultinomialNB\n",
        "from sklearn.linear_model import LogisticRegression\n",
        "from sklearn.svm import SVC\n",
        "from skopt import BayesSearchCV\n",
        "from skopt.space import Real, Categorical, Integer\n",
        "from scipy.stats import uniform\n",
        "\n",
        "\n",
        "# Import Metrics\n",
        "from sklearn.metrics import classification_report, ConfusionMatrixDisplay, recall_score"
      ]
    },
    {
      "cell_type": "markdown",
      "id": "fcd59048-d315-4bbc-bba4-a601310d64a9",
      "metadata": {
        "tags": [],
        "id": "fcd59048-d315-4bbc-bba4-a601310d64a9"
      },
      "source": [
        "## Read in Data"
      ]
    },
    {
      "cell_type": "code",
      "execution_count": null,
      "id": "ee141fa8-1376-4aa0-94fe-3d83118758f6",
      "metadata": {
        "id": "ee141fa8-1376-4aa0-94fe-3d83118758f6"
      },
      "outputs": [],
      "source": [
        "## Import Train & Test Data\n",
        "X_train = pd.read_csv('../Data/DataFrames/X_train.csv', index_col = 'Unnamed: 0')\n",
        "X_test = pd.read_csv('../Data/DataFrames/X_test.csv', index_col = 'Unnamed: 0')\n",
        "y_train = pd.read_csv('../Data/DataFrames/y_train.csv', index_col = 'Unnamed: 0')\n",
        "y_test = pd.read_csv('../Data/DataFrames/y_test.csv', index_col = 'Unnamed: 0')"
      ]
    },
    {
      "cell_type": "code",
      "execution_count": 1,
      "id": "00c80eb8-e7f2-4b59-9d49-e5be1dc52cc1",
      "metadata": {
        "colab": {
          "base_uri": "https://localhost:8080/",
          "height": 218
        },
        "id": "00c80eb8-e7f2-4b59-9d49-e5be1dc52cc1",
        "outputId": "c58ca481-acd5-4561-cf9c-3fcd67de53cc"
      },
      "outputs": [
        {
          "output_type": "error",
          "ename": "NameError",
          "evalue": "ignored",
          "traceback": [
            "\u001b[0;31m---------------------------------------------------------------------------\u001b[0m",
            "\u001b[0;31mNameError\u001b[0m                                 Traceback (most recent call last)",
            "\u001b[0;32m<ipython-input-1-ddd2f0781a5d>\u001b[0m in \u001b[0;36m<module>\u001b[0;34m\u001b[0m\n\u001b[0;32m----> 1\u001b[0;31m \u001b[0mprint\u001b[0m\u001b[0;34m(\u001b[0m\u001b[0;34m\"X_train:\"\u001b[0m\u001b[0;34m,\u001b[0m \u001b[0mX_train\u001b[0m\u001b[0;34m.\u001b[0m\u001b[0mshape\u001b[0m\u001b[0;34m)\u001b[0m\u001b[0;34m\u001b[0m\u001b[0;34m\u001b[0m\u001b[0m\n\u001b[0m\u001b[1;32m      2\u001b[0m \u001b[0mprint\u001b[0m\u001b[0;34m(\u001b[0m\u001b[0;34m\"X_test:\"\u001b[0m\u001b[0;34m,\u001b[0m \u001b[0mX_test\u001b[0m\u001b[0;34m.\u001b[0m\u001b[0mshape\u001b[0m\u001b[0;34m)\u001b[0m\u001b[0;34m\u001b[0m\u001b[0;34m\u001b[0m\u001b[0m\n\u001b[1;32m      3\u001b[0m \u001b[0mprint\u001b[0m\u001b[0;34m(\u001b[0m\u001b[0;34m\"y_train:\"\u001b[0m\u001b[0;34m,\u001b[0m \u001b[0my_train\u001b[0m\u001b[0;34m.\u001b[0m\u001b[0mshape\u001b[0m\u001b[0;34m)\u001b[0m\u001b[0;34m\u001b[0m\u001b[0;34m\u001b[0m\u001b[0m\n\u001b[1;32m      4\u001b[0m \u001b[0mprint\u001b[0m\u001b[0;34m(\u001b[0m\u001b[0;34m\"y_test:\"\u001b[0m\u001b[0;34m,\u001b[0m \u001b[0my_test\u001b[0m\u001b[0;34m.\u001b[0m\u001b[0mshape\u001b[0m\u001b[0;34m)\u001b[0m\u001b[0;34m\u001b[0m\u001b[0;34m\u001b[0m\u001b[0m\n",
            "\u001b[0;31mNameError\u001b[0m: name 'X_train' is not defined"
          ]
        }
      ],
      "source": [
        "print(\"X_train:\", X_train.shape)\n",
        "print(\"X_test:\", X_test.shape) \n",
        "print(\"y_train:\", y_train.shape)\n",
        "print(\"y_test:\", y_test.shape) "
      ]
    },
    {
      "cell_type": "markdown",
      "id": "90087052-5cce-4003-be5e-fc015ea5aaf1",
      "metadata": {
        "tags": [],
        "id": "90087052-5cce-4003-be5e-fc015ea5aaf1"
      },
      "source": [
        "## Baseline values for y"
      ]
    },
    {
      "cell_type": "code",
      "execution_count": null,
      "id": "4eb40786-0eb7-4148-b359-ef19d41d4f07",
      "metadata": {
        "id": "4eb40786-0eb7-4148-b359-ef19d41d4f07"
      },
      "outputs": [],
      "source": [
        "y_train.value_counts(normalize = True)"
      ]
    },
    {
      "cell_type": "markdown",
      "id": "2fc089b2-bc83-4aae-9d97-9097961f464e",
      "metadata": {
        "id": "2fc089b2-bc83-4aae-9d97-9097961f464e"
      },
      "source": [
        "NOTE: Predict r/relationships, '0', with 52% accuracy."
      ]
    },
    {
      "cell_type": "markdown",
      "id": "d1edbff1-d746-4f3b-a192-affda34dbb00",
      "metadata": {
        "tags": [],
        "id": "d1edbff1-d746-4f3b-a192-affda34dbb00"
      },
      "source": [
        "## Logistic Regression Model"
      ]
    },
    {
      "cell_type": "code",
      "execution_count": null,
      "id": "3fbf8e1e-c19e-42b4-99a8-2a76448ca7f9",
      "metadata": {
        "id": "3fbf8e1e-c19e-42b4-99a8-2a76448ca7f9",
        "outputId": "b4194a7e-02a3-4a31-f569-533188ad8cc4"
      },
      "outputs": [
        {
          "name": "stderr",
          "output_type": "stream",
          "text": [
            "/Users/kaitcrawford/opt/anaconda3/envs/dsi/lib/python3.10/site-packages/sklearn/base.py:329: UserWarning: Trying to unpickle estimator StandardScaler from version 1.0.2 when using version 1.1.3. This might lead to breaking code or invalid results. Use at your own risk. For more info please refer to:\n",
            "https://scikit-learn.org/stable/model_persistence.html#security-maintainability-limitations\n",
            "  warnings.warn(\n",
            "/Users/kaitcrawford/opt/anaconda3/envs/dsi/lib/python3.10/site-packages/sklearn/base.py:329: UserWarning: Trying to unpickle estimator LogisticRegression from version 1.0.2 when using version 1.1.3. This might lead to breaking code or invalid results. Use at your own risk. For more info please refer to:\n",
            "https://scikit-learn.org/stable/model_persistence.html#security-maintainability-limitations\n",
            "  warnings.warn(\n",
            "/Users/kaitcrawford/opt/anaconda3/envs/dsi/lib/python3.10/site-packages/sklearn/base.py:329: UserWarning: Trying to unpickle estimator Pipeline from version 1.0.2 when using version 1.1.3. This might lead to breaking code or invalid results. Use at your own risk. For more info please refer to:\n",
            "https://scikit-learn.org/stable/model_persistence.html#security-maintainability-limitations\n",
            "  warnings.warn(\n"
          ]
        }
      ],
      "source": [
        "with open('../Models/lgr.pkl', 'rb') as pickle_in:\n",
        "    lgr = pickle.load(pickle_in)"
      ]
    },
    {
      "cell_type": "markdown",
      "id": "28bf15d2-778f-4d93-b364-03debc3cc92d",
      "metadata": {
        "tags": [],
        "id": "28bf15d2-778f-4d93-b364-03debc3cc92d"
      },
      "source": [
        "### Model Fitting"
      ]
    },
    {
      "cell_type": "code",
      "execution_count": null,
      "id": "8ee948ed-832e-4385-aa36-142b3f2a1cdc",
      "metadata": {
        "id": "8ee948ed-832e-4385-aa36-142b3f2a1cdc"
      },
      "outputs": [],
      "source": [
        "lgr_pipe = Pipeline(steps=[\n",
        "    (\"ss\", StandardScaler()), \n",
        "    (\"lgr\",  LogisticRegression(max_iter=1000, random_state=42))\n",
        "])"
      ]
    },
    {
      "cell_type": "code",
      "execution_count": null,
      "id": "386c6224-a894-45fc-a302-9fa0ced11504",
      "metadata": {
        "id": "386c6224-a894-45fc-a302-9fa0ced11504"
      },
      "outputs": [],
      "source": [
        "lgr_pipe.fit(X_train, y_train)"
      ]
    },
    {
      "cell_type": "code",
      "execution_count": null,
      "id": "e7d1276e-e3db-4e04-943b-897172919673",
      "metadata": {
        "id": "e7d1276e-e3db-4e04-943b-897172919673"
      },
      "outputs": [],
      "source": [
        "# Export Model\n",
        "with open('../Data/lgr.pkl', 'wb') as pickle_out:\n",
        "    pickle.dump(lgr_pipe, pickle_out)"
      ]
    },
    {
      "cell_type": "code",
      "execution_count": null,
      "id": "358dd713-642f-4017-adc7-32c53b1b434c",
      "metadata": {
        "id": "358dd713-642f-4017-adc7-32c53b1b434c",
        "outputId": "599520f3-505b-4130-850c-81ba470f630e"
      },
      "outputs": [
        {
          "name": "stdout",
          "output_type": "stream",
          "text": [
            "Parameters currently in use:\n",
            "\n",
            "{'memory': None, 'steps': [('ss', StandardScaler()), ('lgr', LogisticRegression(max_iter=1000, random_state=42))], 'verbose': False, 'ss': StandardScaler(), 'lgr': LogisticRegression(max_iter=1000, random_state=42), 'ss__copy': True, 'ss__with_mean': True, 'ss__with_std': True, 'lgr__C': 1.0, 'lgr__class_weight': None, 'lgr__dual': False, 'lgr__fit_intercept': True, 'lgr__intercept_scaling': 1, 'lgr__l1_ratio': None, 'lgr__max_iter': 1000, 'lgr__multi_class': 'auto', 'lgr__n_jobs': None, 'lgr__penalty': 'l2', 'lgr__random_state': 42, 'lgr__solver': 'lbfgs', 'lgr__tol': 0.0001, 'lgr__verbose': 0, 'lgr__warm_start': False}\n"
          ]
        }
      ],
      "source": [
        "print('Parameters currently in use:\\n')\n",
        "print(lgr_pipe.get_params())"
      ]
    },
    {
      "cell_type": "markdown",
      "id": "e69361a3-b5a9-422a-ad00-33421fdc01ab",
      "metadata": {
        "tags": [],
        "id": "e69361a3-b5a9-422a-ad00-33421fdc01ab"
      },
      "source": [
        "### Metrics"
      ]
    },
    {
      "cell_type": "code",
      "execution_count": null,
      "id": "b2f9e3e9-0153-4fbf-b62a-6521908f69b6",
      "metadata": {
        "id": "b2f9e3e9-0153-4fbf-b62a-6521908f69b6",
        "outputId": "a3262e15-6b48-4955-e54a-9f82d815f564"
      },
      "outputs": [
        {
          "data": {
            "image/png": "[encoded data removed]",
            "text/plain": [
              "<Figure size 432x288 with 2 Axes>"
            ]
          },
          "metadata": {
            "needs_background": "light"
          },
          "output_type": "display_data"
        }
      ],
      "source": [
        "ConfusionMatrixDisplay.from_estimator(lgr_pipe, X_test, y_test, cmap = \"BuPu\", \n",
        "                                      display_labels = [\"r/relationships\", \"r/legaladvice\"])\n",
        "plt.title(\"Logistic Regression\", fontdict={\"fontsize\": 18}, y = 1.05)\n",
        "plt.savefig('../Visualizations/matrix_lgr.png', bbox_inches='tight');"
      ]
    },
    {
      "cell_type": "markdown",
      "id": "cd774b28-4087-49fa-86ec-2e1aff8dfe6e",
      "metadata": {
        "id": "cd774b28-4087-49fa-86ec-2e1aff8dfe6e"
      },
      "source": [
        "Adapted from: https://stackoverflow.com/questions/39662398/scikit-learn-output-metrics-classification-report-into-csv-tab-delimited-format"
      ]
    },
    {
      "cell_type": "markdown",
      "id": "b88685cc-0901-4897-b8ed-d6fc430248e2",
      "metadata": {
        "tags": [],
        "id": "b88685cc-0901-4897-b8ed-d6fc430248e2"
      },
      "source": [
        "## Bayes Search with SVC"
      ]
    },
    {
      "cell_type": "code",
      "execution_count": null,
      "id": "5e096e11-088d-49ed-8ee8-a5ea03a86cee",
      "metadata": {
        "id": "5e096e11-088d-49ed-8ee8-a5ea03a86cee",
        "outputId": "53da9050-3ff1-41ff-8a36-677dcb1d7d70"
      },
      "outputs": [
        {
          "name": "stderr",
          "output_type": "stream",
          "text": [
            "/Users/kaitcrawford/opt/anaconda3/envs/dsi/lib/python3.10/site-packages/sklearn/base.py:329: UserWarning: Trying to unpickle estimator SVC from version 1.0.2 when using version 1.1.3. This might lead to breaking code or invalid results. Use at your own risk. For more info please refer to:\n",
            "https://scikit-learn.org/stable/model_persistence.html#security-maintainability-limitations\n",
            "  warnings.warn(\n",
            "/var/folders/7l/441dnk_52sgfldpwf_5_7dmr0000gn/T/ipykernel_81519/3614645353.py:2: DeprecationWarning: Please use `OptimizeResult` from the `scipy.optimize` namespace, the `scipy.optimize.optimize` namespace is deprecated.\n",
            "  svc_bayes = pickle.load(pickle_in)\n"
          ]
        }
      ],
      "source": [
        "with open('../Models/svc_bayes.pkl', 'rb') as pickle_in:\n",
        "    svc_bayes = pickle.load(pickle_in)"
      ]
    },
    {
      "cell_type": "markdown",
      "id": "839dfe7e-8736-4d44-8adf-72c7a3685cd9",
      "metadata": {
        "tags": [],
        "id": "839dfe7e-8736-4d44-8adf-72c7a3685cd9"
      },
      "source": [
        "### Parameters\n",
        "(Source: https://scikit-learn.org/stable/modules/generated/sklearn.model_selection.RandomizedSearchCV.html retrieved on Dec 4, 2022)"
      ]
    },
    {
      "cell_type": "code",
      "execution_count": null,
      "id": "8dc49ccd-3eb8-4108-b135-30e91296d52b",
      "metadata": {
        "id": "8dc49ccd-3eb8-4108-b135-30e91296d52b"
      },
      "outputs": [],
      "source": [
        "bayes_spaces = {\n",
        "    'C': Real(1e-6, 1e+6, prior='log-uniform'),\n",
        "    'gamma': Real(1e-6, 1e+1, prior='log-uniform'),\n",
        "    'degree': Integer(1,8),\n",
        "    'kernel': Categorical(['linear', 'poly', 'rbf']),\n",
        "}"
      ]
    },
    {
      "cell_type": "markdown",
      "id": "f2c67609-ccf9-4ab0-a09b-9d01309742e9",
      "metadata": {
        "tags": [],
        "id": "f2c67609-ccf9-4ab0-a09b-9d01309742e9"
      },
      "source": [
        "### Model Fitting"
      ]
    },
    {
      "cell_type": "markdown",
      "id": "18129426-5a40-4cca-a1ac-3383f8ca67e7",
      "metadata": {
        "id": "18129426-5a40-4cca-a1ac-3383f8ca67e7"
      },
      "source": [
        "(Source: https://scikit-optimize.github.io/stable/modules/generated/skopt.BayesSearchCV.html retrieved on Dec 4, 2022)"
      ]
    },
    {
      "cell_type": "code",
      "execution_count": null,
      "id": "e1f263a9-7fce-4eb2-b4b6-cff1cc37c156",
      "metadata": {
        "id": "e1f263a9-7fce-4eb2-b4b6-cff1cc37c156"
      },
      "outputs": [],
      "source": [
        "ss = StandardScaler()\n",
        "X_train_scaled = ss.fit_transform(X_train)\n",
        "X_test_scaled = ss.fit_transform(X_test)"
      ]
    },
    {
      "cell_type": "code",
      "execution_count": null,
      "id": "41f32bf4-b883-4029-aad4-e614347fce5d",
      "metadata": {
        "id": "41f32bf4-b883-4029-aad4-e614347fce5d"
      },
      "outputs": [],
      "source": [
        "svc_bayes = BayesSearchCV(\n",
        "    estimator = SVC(random_state=42), \n",
        "    search_spaces = bayes_spaces, \n",
        "    n_iter = 20, \n",
        "    cv = 5, \n",
        "    verbose=2, \n",
        "    random_state=42, \n",
        "    n_jobs = -1\n",
        ")"
      ]
    },
    {
      "cell_type": "code",
      "execution_count": 1,
      "id": "82e2c895-6e71-4bd3-a6d2-87be6cc584b7",
      "metadata": {
        "scrolled": true,
        "tags": [],
        "id": "82e2c895-6e71-4bd3-a6d2-87be6cc584b7"
      },
      "outputs": [],
      "source": [
        "svc_bayes.fit(X_train_scaled, y_train)"
      ]
    },
    {
      "cell_type": "code",
      "execution_count": null,
      "id": "e820546c-cd02-436f-994c-e525c4a8bb5c",
      "metadata": {
        "scrolled": true,
        "tags": [],
        "id": "e820546c-cd02-436f-994c-e525c4a8bb5c"
      },
      "outputs": [],
      "source": [
        "with open('../Data/svc_bayes.pkl', 'wb') as pickle_out:\n",
        "    pickle.dump(svc_bayes, pickle_out)"
      ]
    },
    {
      "cell_type": "code",
      "execution_count": null,
      "id": "8fbc6dd0-d65a-4b91-9848-01671c1ed8bd",
      "metadata": {
        "id": "8fbc6dd0-d65a-4b91-9848-01671c1ed8bd"
      },
      "outputs": [],
      "source": [
        "svc_bayes.best_params_"
      ]
    },
    {
      "cell_type": "code",
      "execution_count": null,
      "id": "dd813796-52b0-4e1a-a6fd-f1287371d4e7",
      "metadata": {
        "id": "dd813796-52b0-4e1a-a6fd-f1287371d4e7"
      },
      "outputs": [],
      "source": [
        "svc_bayes.best_estimator_"
      ]
    },
    {
      "cell_type": "markdown",
      "id": "2e5efec1-7705-4176-b9ca-5a971fd97fe1",
      "metadata": {
        "tags": [],
        "id": "2e5efec1-7705-4176-b9ca-5a971fd97fe1"
      },
      "source": [
        "### Metrics"
      ]
    },
    {
      "cell_type": "code",
      "execution_count": null,
      "id": "845ee4d6-98a4-4835-8126-be6e5c9bcaca",
      "metadata": {
        "id": "845ee4d6-98a4-4835-8126-be6e5c9bcaca",
        "outputId": "c86e0585-35a1-43e4-ab07-e733777b3480"
      },
      "outputs": [
        {
          "data": {
            "image/png": "[encoded data removed]",
            "text/plain": [
              "<Figure size 640x480 with 2 Axes>"
            ]
          },
          "metadata": {},
          "output_type": "display_data"
        }
      ],
      "source": [
        "ConfusionMatrixDisplay.from_estimator(svc_bayes, X_test_scaled, y_test, cmap = \"BuPu\", \n",
        "                                      display_labels = [\"r/relationships\", \"r/legaladvice\"])\n",
        "plt.title(\"Bayes SVC\", fontdict={\"fontsize\": 18}, y = 1.05)\n",
        "plt.savefig('../Visualizations/matrix_lgr_bayes.png', bbox_inches='tight');"
      ]
    },
    {
      "cell_type": "markdown",
      "id": "bcb686d1-cb06-4e99-a39e-b16df1ec56d2",
      "metadata": {
        "id": "bcb686d1-cb06-4e99-a39e-b16df1ec56d2"
      },
      "source": [
        "## Evaluating Model Performances"
      ]
    },
    {
      "cell_type": "code",
      "execution_count": null,
      "id": "da058055-ec56-45d0-a212-91ad78e09e98",
      "metadata": {
        "id": "da058055-ec56-45d0-a212-91ad78e09e98",
        "outputId": "6d35b9e3-f383-4ef3-aaa0-300c9b31b197"
      },
      "outputs": [
        {
          "name": "stdout",
          "output_type": "stream",
          "text": [
            "                 precision    recall  f1-score   support\n",
            "\n",
            "r/relationships      0.888     0.883     0.885       556\n",
            "        r/legal      0.869     0.874     0.871       492\n",
            "\n",
            "       accuracy                          0.879      1048\n",
            "      macro avg      0.878     0.879     0.878      1048\n",
            "   weighted avg      0.879     0.879     0.879      1048\n",
            "\n"
          ]
        },
        {
          "name": "stderr",
          "output_type": "stream",
          "text": [
            "/Users/kaitcrawford/opt/anaconda3/envs/dsi/lib/python3.10/site-packages/sklearn/base.py:450: UserWarning: X does not have valid feature names, but StandardScaler was fitted with feature names\n",
            "  warnings.warn(\n"
          ]
        }
      ],
      "source": [
        "print(classification_report(y_test, lgr.predict(X_test_scaled), target_names=['r/relationships', 'r/legal'], digits=3))"
      ]
    },
    {
      "cell_type": "code",
      "execution_count": null,
      "id": "3959b1ab-8c4a-478e-a8f0-5928e1e40391",
      "metadata": {
        "id": "3959b1ab-8c4a-478e-a8f0-5928e1e40391",
        "outputId": "143f0f01-f4d8-4c62-aa30-e6cc1d33519a"
      },
      "outputs": [
        {
          "name": "stdout",
          "output_type": "stream",
          "text": [
            "                 precision    recall  f1-score   support\n",
            "\n",
            "r/relationships      0.973     0.982     0.978       556\n",
            "        r/legal      0.979     0.970     0.974       492\n",
            "\n",
            "       accuracy                          0.976      1048\n",
            "      macro avg      0.976     0.976     0.976      1048\n",
            "   weighted avg      0.976     0.976     0.976      1048\n",
            "\n"
          ]
        }
      ],
      "source": [
        "print(classification_report(y_test, svc_bayes.predict(X_test_scaled), target_names=['r/relationships', 'r/legal'], digits=3))"
      ]
    },
    {
      "cell_type": "code",
      "execution_count": null,
      "id": "94485946-b13b-4e3f-b6b6-816614a6cee8",
      "metadata": {
        "id": "94485946-b13b-4e3f-b6b6-816614a6cee8"
      },
      "outputs": [],
      "source": []
    },
    {
      "cell_type": "code",
      "execution_count": null,
      "id": "f88d2077-8be0-42dc-bca4-b40561f687d2",
      "metadata": {
        "id": "f88d2077-8be0-42dc-bca4-b40561f687d2"
      },
      "outputs": [],
      "source": []
    }
  ],
  "metadata": {
    "kernelspec": {
      "display_name": "Python 3 (ipykernel)",
      "language": "python",
      "name": "python3"
    },
    "language_info": {
      "codemirror_mode": {
        "name": "ipython",
        "version": 3
      },
      "file_extension": ".py",
      "mimetype": "text/x-python",
      "name": "python",
      "nbconvert_exporter": "python",
      "pygments_lexer": "ipython3",
      "version": "3.10.8"
    },
    "colab": {
      "provenance": []
    }
  },
  "nbformat": 4,
  "nbformat_minor": 5
}